{
 "cells": [
  {
   "cell_type": "markdown",
   "id": "c1c69f03",
   "metadata": {},
   "source": [
    "# ChronicCare AI Agent\n",
    "\n",
    "_An Intelligent Health Assistant for Chronic Disease Monitoring_"
   ]
  },
  {
   "cell_type": "markdown",
   "id": "4d7b9107",
   "metadata": {},
   "source": [
    "## 1. Project Overview\n",
    "ChronicCare AI is a virtual assistant designed to help users manage chronic diseases like diabetes, hypertension, and heart disease. It leverages AI to provide personalized recommendations related to lifestyle, diet, medications, and health alerts."
   ]
  },
  {
   "cell_type": "markdown",
   "id": "eaba0fc1",
   "metadata": {},
   "source": [
    "## 2. Goals of ChronicCare AI\n",
    "- Monitor early symptoms of chronic conditions\n",
    "- Suggest preventive care like medications, diet, and exercise\n",
    "- Educate users about chronic diseases\n",
    "- Recommend doctor visits when necessary\n",
    "- Summarize previous user data and alert trends"
   ]
  },
  {
   "cell_type": "markdown",
   "id": "500cd5f6",
   "metadata": {},
   "source": [
    "## 3. Tools and Technologies Used\n",
    "- **IBM Watsonx Assistant**: For building and deploying the chatbot\n",
    "- **Python**: For backend data processing\n",
    "- **NLU/NLP Models**: For symptom analysis and response generation\n",
    "- **GitHub**: For version control and collaboration\n",
    "- **Jupyter Notebook**: For documenting the workflow"
   ]
  },
  {
   "cell_type": "markdown",
   "id": "5484888c",
   "metadata": {},
   "source": [
    "## 4. Chatbot Interaction Flow\n",
    "```mermaid\n",
    "graph TD;\n",
    "A[User Starts Chat] --> B[Greeting & Consent];\n",
    "B --> C[Ask Age, Gender, Weight, Height];\n",
    "C --> D[Ask Symptoms or Goals];\n",
    "D --> E[Analyze Health Risk];\n",
    "E --> F[Suggest Diet / Medicine / Exercise];\n",
    "F --> G[Monitor Trends and Notify];\n",
    "```"
   ]
  },
  {
   "cell_type": "markdown",
   "id": "c418cef0",
   "metadata": {},
   "source": [
    "## 5. Sample Dialogs\n",
    "**User:** Hi\n",
    "**Agent:** Hello! Welcome to ChronicCare AI. Can I help you manage any chronic condition today?\n",
    "**User:** I have high blood pressure.\n",
    "**Agent:** Thanks for sharing. Please provide your age, weight, and recent symptoms.\n",
    "**User:** 45 years old, 80 kg, headache and dizziness.\n",
    "**Agent:** You may be experiencing hypertension symptoms. Please consult a physician. Meanwhile, reduce sodium, stay hydrated, and do light yoga daily."
   ]
  },
  {
   "cell_type": "markdown",
   "id": "35a403e4",
   "metadata": {},
   "source": [
    "## 6. Research Summary\n",
    "- Analysis of common chronic diseases: diabetes, hypertension, cardiovascular\n",
    "- Papers on diet and lifestyle-based prevention\n",
    "- Existing chatbot frameworks and their limitations\n",
    "- Research datasets used: MIMIC-III, UCI Diabetes Dataset"
   ]
  },
  {
   "cell_type": "markdown",
   "id": "e1bd8151",
   "metadata": {},
   "source": [
    "## 7. Future Enhancements\n",
    "- Integration with wearable health devices\n",
    "- Doctor recommendation system\n",
    "- Emergency alert triggering\n",
    "- More language support\n",
    "- Support for more diseases like asthma, arthritis, and kidney disease"
   ]
  },
  {
   "cell_type": "markdown",
   "id": "32c07593",
   "metadata": {},
   "source": [
    "## 8. Screenshots and Demo Links\n",
    "Include screenshots of IBM Watsonx Assistant, intents, entities, and chatbot output UI.\n"
   ]
  },
  {
   "cell_type": "code",
   "execution_count": null,
   "id": "0e44a3ea",
   "metadata": {},
   "outputs": [],
   "source": [
    "# import dependencies\n",
    "from langchain_ibm import ChatWatsonx\n",
    "from ibm_watsonx_ai import APIClient\n",
    "from langchain_core.messages import AIMessage, HumanMessage\n",
    "from langgraph.checkpoint.memory import MemorySaver\n",
    "from langgraph.prebuilt import create_react_agent\n",
    "from ibm_watsonx_ai.foundation_models.utils import Tool, Toolkit\n",
    "import json\n",
    "import requests"
   ]
  },
  {
   "cell_type": "markdown",
   "id": "14c80e97",
   "metadata": {},
   "source": [
    "watsonx API connection"
   ]
  },
  {
   "cell_type": "code",
   "execution_count": null,
   "id": "d9f39e42",
   "metadata": {
    "vscode": {
     "languageId": "plaintext"
    }
   },
   "outputs": [],
   "source": [
    "his cell defines the credentials required to work with watsonx API for Foundation Model inferencing.\n",
    "\n",
    "Action: Provide the IBM Cloud personal API key. For details, see documentation."
   ]
  },
  {
   "cell_type": "code",
   "execution_count": null,
   "id": "ad05d045",
   "metadata": {},
   "outputs": [],
   "source": [
    "import os\n",
    "import getpass\n",
    "\n",
    "def get_credentials():\n",
    "\treturn {\n",
    "\t\t\"url\" : \"https://us-south.ml.cloud.ibm.com\",\n",
    "\t\t\"apikey\" : getpass.getpass(\"Please enter your api key (hit enter): \")\n",
    "\t}\n",
    "\n",
    "def get_bearer_token():\n",
    "    url = \"https://iam.cloud.ibm.com/identity/token\"\n",
    "    headers = {\"Content-Type\": \"application/x-www-form-urlencoded\"}\n",
    "    data = f\"grant_type=urn:ibm:params:oauth:grant-type:apikey&apikey={credentials['apikey']}\"\n",
    "\n",
    "    response = requests.post(url, headers=headers, data=data)\n",
    "    return response.json().get(\"access_token\")\n",
    "\n",
    "credentials = get_credentials()\n",
    "     "
   ]
  },
  {
   "cell_type": "markdown",
   "id": "55e0fbf8",
   "metadata": {},
   "source": [
    "Defining the model parameters"
   ]
  },
  {
   "cell_type": "code",
   "execution_count": null,
   "id": "ec9f31b2",
   "metadata": {
    "vscode": {
     "languageId": "plaintext"
    }
   },
   "outputs": [],
   "source": [
    "We need to provide a set of model parameters that will influence the result:"
   ]
  },
  {
   "cell_type": "code",
   "execution_count": null,
   "id": "10bd13cf",
   "metadata": {},
   "outputs": [],
   "source": [
    "parameters = {\n",
    "    \"frequency_penalty\": 0,\n",
    "    \"max_tokens\": 2000,\n",
    "    \"presence_penalty\": 0,\n",
    "    \"temperature\": 0,\n",
    "    \"top_p\": 1\n",
    "}\n",
    "     "
   ]
  },
  {
   "cell_type": "markdown",
   "id": "8fd9408c",
   "metadata": {},
   "source": [
    "Creating the agent"
   ]
  },
  {
   "cell_type": "code",
   "execution_count": null,
   "id": "2da2268b",
   "metadata": {},
   "outputs": [],
   "source": [
    "client = APIClient(credentials=credentials, project_id=project_id, space_id=space_id)\n",
    "\n",
    "# Create the chat model\n",
    "def create_chat_model():\n",
    "    chat_model = ChatWatsonx(\n",
    "        model_id=model_id,\n",
    "        url=credentials[\"url\"],\n",
    "        space_id=space_id,\n",
    "        project_id=project_id,\n",
    "        params=parameters,\n",
    "        watsonx_client=client,\n",
    "    )\n",
    "    return chat_model\n",
    "     \n",
    "\n",
    "from ibm_watsonx_ai.deployments import RuntimeContext\n",
    "\n",
    "context = RuntimeContext(api_client=client)\n",
    "\n",
    "\n",
    "\n",
    "\n",
    "def create_utility_agent_tool(tool_name, params, api_client, **kwargs):\n",
    "    from langchain_core.tools import StructuredTool\n",
    "    utility_agent_tool = Toolkit(\n",
    "        api_client=api_client\n",
    "    ).get_tool(tool_name)\n",
    "\n",
    "    tool_description = utility_agent_tool.get(\"description\")\n",
    "\n",
    "    if (kwargs.get(\"tool_description\")):\n",
    "        tool_description = kwargs.get(\"tool_description\")\n",
    "    elif (utility_agent_tool.get(\"agent_description\")):\n",
    "        tool_description = utility_agent_tool.get(\"agent_description\")\n",
    "    \n",
    "    tool_schema = utility_agent_tool.get(\"input_schema\")\n",
    "    if (tool_schema == None):\n",
    "        tool_schema = {\n",
    "            \"type\": \"object\",\n",
    "            \"additionalProperties\": False,\n",
    "            \"$schema\": \"http://json-schema.org/draft-07/schema#\",\n",
    "            \"properties\": {\n",
    "                \"input\": {\n",
    "                    \"description\": \"input for the tool\",\n",
    "                    \"type\": \"string\"\n",
    "                }\n",
    "            }\n",
    "        }\n",
    "    \n",
    "    def run_tool(**tool_input):\n",
    "        query = tool_input\n",
    "        if (utility_agent_tool.get(\"input_schema\") == None):\n",
    "            query = tool_input.get(\"input\")\n",
    "\n",
    "        results = utility_agent_tool.run(\n",
    "            input=query,\n",
    "            config=params\n",
    "        )\n",
    "        \n",
    "        return results.get(\"output\")\n",
    "    \n",
    "    return StructuredTool(\n",
    "        name=tool_name,\n",
    "        description = tool_description,\n",
    "        func=run_tool,\n",
    "        args_schema=tool_schema\n",
    "    )\n",
    "\n",
    "\n",
    "def create_custom_tool(tool_name, tool_description, tool_code, tool_schema, tool_params):\n",
    "    from langchain_core.tools import StructuredTool\n",
    "    import ast\n",
    "\n",
    "    def call_tool(**kwargs):\n",
    "        tree = ast.parse(tool_code, mode=\"exec\")\n",
    "        custom_tool_functions = [ x for x in tree.body if isinstance(x, ast.FunctionDef) ]\n",
    "        function_name = custom_tool_functions[0].name\n",
    "        compiled_code = compile(tree, 'custom_tool', 'exec')\n",
    "        namespace = tool_params if tool_params else {}\n",
    "        exec(compiled_code, namespace)\n",
    "        return namespace[function_name](**kwargs)\n",
    "        \n",
    "    tool = StructuredTool(\n",
    "        name=tool_name,\n",
    "        description = tool_description,\n",
    "        func=call_tool,\n",
    "        args_schema=tool_schema\n",
    "    )\n",
    "    return tool\n",
    "\n",
    "def create_custom_tools():\n",
    "    custom_tools = []\n",
    "\n",
    "\n",
    "def create_tools(context):\n",
    "    tools = []\n",
    "    \n",
    "    config = {\n",
    "    }\n",
    "    tools.append(create_utility_agent_tool(\"Weather\", config, client))\n",
    "    config = {\n",
    "    }\n",
    "    tools.append(create_utility_agent_tool(\"WebCrawler\", config, client))\n",
    "    config = {\n",
    "    }\n",
    "    tools.append(create_utility_agent_tool(\"DuckDuckGo\", config, client))\n",
    "    config = {\n",
    "        \"maxResults\": 5\n",
    "    }\n",
    "    tools.append(create_utility_agent_tool(\"Wikipedia\", config, client))\n",
    "    config = {\n",
    "        \"maxResults\": 10\n",
    "    }\n",
    "    tools.append(create_utility_agent_tool(\"GoogleSearch\", config, client))\n",
    "\n",
    "    return tools\n",
    "     "
   ]
  }
 ],
 "metadata": {
  "language_info": {
   "name": "python"
  }
 },
 "nbformat": 4,
 "nbformat_minor": 5
}
